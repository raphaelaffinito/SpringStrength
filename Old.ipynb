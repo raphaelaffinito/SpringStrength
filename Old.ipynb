{
 "cells": [
  {
   "cell_type": "code",
   "execution_count": 42,
   "metadata": {},
   "outputs": [],
   "source": [
    "# Raphael A. Affinito \n",
    "# Penn State Rock Mechanics Laboratroy\n",
    "# Date Made: May 2021 \n",
    "# Date Updated:\n",
    "\n",
    "\n",
    "## Spring Strenght Widget for Biax/Vessel Experiments: \n",
    "\n",
    "\n",
    "# Objective Statment:\n",
    "    # Interactive Widget for Spring Strength\n",
    "    # The purpose of the script is to see if a spring will break or withstand laoding in the Biax. \n",
    "    # The code should be adapted for relative sitffness and can be used for differnt mateirals. \n",
    "    # The code is written for a Double Direct Shear (DDS) configuration.\n",
    "    \n",
    "# Import Packages: \n",
    "import numpy as np\n",
    "from __future__ import print_function\n",
    "from ipywidgets import interact, interactive, fixed, interact_manual\n",
    "import ipywidgets as widgets"
   ]
  },
  {
   "cell_type": "code",
   "execution_count": null,
   "metadata": {},
   "outputs": [],
   "source": [
    "def sping_area(width_s, length_s):\n",
    "    return (width_s/1000) * ()\n",
    "\n",
    "\n",
    "interact(testfunc,x=5,z=2)"
   ]
  },
  {
   "cell_type": "code",
   "execution_count": 12,
   "metadata": {},
   "outputs": [],
   "source": [
    "## Geometric Parameters:\n",
    "\n",
    "# Spring Dimensions: \n",
    "# -----------------------------------------------------------------------------\n",
    "E = 2.98e9 # Elastic Modulus\n",
    "Ws = 32 / 1000 # Width in m \n",
    "Ls = 30 /1000 # Width in m \n",
    "As = ((W/2)**2)*np.pi\n",
    "\n",
    "# Loading Blocks Dimensions:\n",
    "# -----------------------------------------------------------------------------\n",
    "\n",
    "## 5x6 Non-Acoustics Vessel Side Block:\n",
    "Wb = 54.02 / 1000 # Width of Side Block \n",
    "Lb = 57.01 /1000  # Length of side Block\n",
    "Ap = 0.50654625081 # Area of Piston (% of Pc added to the Normal Stress)\n",
    "\n",
    "## 5x6 Acoustic Vessel Side Block: \n",
    "# Wb = 53.98 / 1000 # Width of Side Block\n",
    "# Lb = 56.95 /1000 # Length of Side Block\n",
    "# Ap = 0.63892359992 # Area of Piston (% of Pc added to the Normal Stress)\n",
    "\n",
    "## DDS Area: \n",
    "Ab = Wb*Lb\n",
    "A_dds = Ab*2"
   ]
  },
  {
   "cell_type": "code",
   "execution_count": 41,
   "metadata": {},
   "outputs": [
    {
     "name": "stdout",
     "output_type": "stream",
     "text": [
      "BREAK: The DDS stress on the spring exceeds the strength of the spring\n"
     ]
    }
   ],
   "source": [
    "## Spring Strength Calucations:\n",
    "\n",
    "# Spring:\n",
    "# ----------------------------------------------------------------------------- \n",
    "UCS = 150 # Compressive Strength in MPa of Spring Material (Linear Elastic)\n",
    "Fs_max = As*(UCS*1000) # Max Force [kN] spring can handle\n",
    "sigma_s_max = (Fs_max/As)/1000\n",
    "\n",
    "# DDS:\n",
    "# ----------------------------------------------------------------------------- \n",
    "NS = 30 # Target Normal Stress For Experiment\n",
    "Pc = 0 # Confining Pressure \n",
    "Pp = 0 # Pore Fluid Pressure\n",
    "NS_eff = NS + (Pc*Ap) - Pp # Effective Normal Stress on the Fault\n",
    "mu = 0.6 # Friction Coefficient\n",
    "sf = 1.1 # Safety Factor\n",
    "\n",
    "Fdds_max = A_dds * (NS_eff * 1000) * mu * sf\n",
    "sigma_dds_max = (Fdds_max/As)/1000\n",
    "\n",
    "Fs_max, sigma_s_max, Fdds_max, sigma_dds_max\n",
    "\n",
    "if sigma_s_max > sigma_dds_max:\n",
    "    print('SAFE: The spring should not break')\n",
    "else:\n",
    "    print('BREAK: The DDS stress on the spring exceeds the strength of the spring')"
   ]
  },
  {
   "cell_type": "code",
   "execution_count": null,
   "metadata": {},
   "outputs": [],
   "source": [
    "## Stiffness Measurement and Predictions: \n",
    "\n",
    "S_s = (E * As)/L # Expected Spring Stiffness [Pa]\n",
    "\n",
    "S_tau = S_s/A_dds) # # Stiffness as Shear Stress [MPa/um]\n",
    "\n"
   ]
  },
  {
   "cell_type": "code",
   "execution_count": 47,
   "metadata": {},
   "outputs": [
    {
     "data": {
      "application/vnd.jupyter.widget-view+json": {
       "model_id": "9082fc3e9c374f01bfe669e7ed292e34",
       "version_major": 2,
       "version_minor": 0
      },
      "text/plain": [
       "interactive(children=(IntSlider(value=5, description='x', max=15, min=-5), IntSlider(value=2, description='z',…"
      ]
     },
     "metadata": {},
     "output_type": "display_data"
    },
    {
     "data": {
      "application/vnd.jupyter.widget-view+json": {
       "model_id": "25e13e950fb94477aae2d4667d127b08",
       "version_major": 2,
       "version_minor": 0
      },
      "text/plain": [
       "interactive(children=(IntSlider(value=10, description='y', max=30, min=-10), Output()), _dom_classes=('widget-…"
      ]
     },
     "metadata": {},
     "output_type": "display_data"
    },
    {
     "data": {
      "text/plain": [
       "<function __main__.poop(y)>"
      ]
     },
     "execution_count": 47,
     "metadata": {},
     "output_type": "execute_result"
    }
   ],
   "source": [
    "\n",
    "\n"
   ]
  },
  {
   "cell_type": "code",
   "execution_count": null,
   "metadata": {},
   "outputs": [],
   "source": []
  }
 ],
 "metadata": {
  "kernelspec": {
   "display_name": "Python 3",
   "language": "python",
   "name": "python3"
  },
  "language_info": {
   "codemirror_mode": {
    "name": "ipython",
    "version": 3
   },
   "file_extension": ".py",
   "mimetype": "text/x-python",
   "name": "python",
   "nbconvert_exporter": "python",
   "pygments_lexer": "ipython3",
   "version": "3.8.3"
  }
 },
 "nbformat": 4,
 "nbformat_minor": 4
}
