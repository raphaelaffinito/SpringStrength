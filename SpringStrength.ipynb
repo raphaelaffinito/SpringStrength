{
 "cells": [
  {
   "cell_type": "code",
   "execution_count": 49,
   "metadata": {},
   "outputs": [
    {
     "name": "stdout",
     "output_type": "stream",
     "text": [
      "\u001b[1m\u001b[4m\n",
      "\n",
      "Spring Strength and Instability Interactive Widget\n",
      "\n",
      "\u001b[0m\n"
     ]
    },
    {
     "data": {
      "application/vnd.jupyter.widget-view+json": {
       "model_id": "3d64b3a03cbc4e278a9b86a4151f06b7",
       "version_major": 2,
       "version_minor": 0
      },
      "text/plain": [
       "interactive(children=(IntSlider(value=32, description='Spring_Width', max=96, min=-32), FloatSlider(value=54.0…"
      ]
     },
     "metadata": {},
     "output_type": "display_data"
    },
    {
     "data": {
      "text/plain": [
       "<function __main__.Spring_Widget(Spring_Width, DDS_Width, DDS_Length, Pc_Area_PistonPercentage, Spring_UCS, Normal_Stress, Confining_Prssure, Pore_Pressure, Mu, Safety_Factor, Elastic_Modulus, Spring_Length, Critical_Stiffness)>"
      ]
     },
     "execution_count": 49,
     "metadata": {},
     "output_type": "execute_result"
    }
   ],
   "source": [
    "# Raphael A. Affinito \n",
    "# Penn State Rock Mechanics Laboratroy\n",
    "# Date Made: 27 May 2021 \n",
    "# Date Updated: 29 May 2021\n",
    "\n",
    "\n",
    "## Spring Strenght Widget for Biax/Vessel Experiments: \n",
    "\n",
    "\n",
    "# Objective Statment:\n",
    "    # Interactive Widget for Spring Strength\n",
    "    # The purpose of the script is to see if a spring will break or withstand laoding in the Biax. \n",
    "    # The code should be adapted for relative sitffness and can be used for differnt mateirals. \n",
    "    # The code is written for a Double Direct Shear (DDS) configuration.\n",
    "    \n",
    "\n",
    "# Import Packages: \n",
    "import numpy as np\n",
    "from __future__ import print_function\n",
    "from ipywidgets import interact, interactive, fixed, interact_manual\n",
    "import ipywidgets as widgets\n",
    "\n",
    "# Text Classes and Colors:\n",
    "class color:\n",
    "    PURPLE = '\\033[95m'\n",
    "    CYAN = '\\033[96m'\n",
    "    DARKCYAN = '\\033[36m'\n",
    "    BLUE = '\\033[94m'\n",
    "    GREEN = '\\033[92m'\n",
    "    YELLOW = '\\033[93m'\n",
    "    RED = '\\033[91m'\n",
    "    BOLD = '\\033[1m'\n",
    "    UNDERLINE = '\\033[4m'\n",
    "    END = '\\033[0m'\n",
    "\n",
    "#####    \n",
    "#####\n",
    "#####  Spring Strength and Instability Interactive Widget: \n",
    "#####\n",
    "#####\n",
    "# -------------------------------------------------------------------------------------------------------------------------------------\n",
    "print(color.BOLD+color.UNDERLINE+'\\n\\nSpring Strength and Instability Interactive Widget\\n\\n'+color.END)\n",
    "\n",
    "def Spring_Widget(Spring_Width, \n",
    "                 DDS_Width, DDS_Length, Pc_Area_PistonPercentage, \n",
    "                 Spring_UCS,\n",
    "                 Normal_Stress, Confining_Prssure, Pore_Pressure, Mu, Safety_Factor,\n",
    "                 Elastic_Modulus, Spring_Length, Critical_Stiffness):\n",
    "    \n",
    "    # PART 1: Spring Strength Value:\n",
    "    #------------------------------------------------------------------------------------------------------------------------------\n",
    "    \n",
    "    Spring_Area = np.pi*((Spring_Width/1000)/2)**2 # Area of The Spring in m^2\n",
    "    \n",
    "    DDS_Area = 2*((DDS_Width/1000)*(DDS_Length/1000)) # Area of the DDS Configuration (2x the Side Block Area)\n",
    "    Pc_Area = Pc_Area_PistonPercentage # Percentage of Piston, 0.50654625081 for Non-Acoustic Blocks and 0.63892359992 for Acoustic Blocks\n",
    "    \n",
    "    \n",
    "    Sping_Strength_kN = Spring_Area * (Spring_UCS * 1000) # Spring Strength in kN\n",
    "    Spring_Strength_MPa = Spring_UCS # Spring Strength in MPa\n",
    "    \n",
    "    Eff_NormalStress = Normal_Stress + (Confining_Prssure * Pc_Area) - Pore_Pressure # Effective Normal Stress on The Fault \n",
    "    \n",
    "    #print(\"This is  mmmm\",Spring_Area), print(Eff_NormalStress), print(Mu), print(Safety_Factor)\n",
    "    \n",
    "    DDS_Force_Max = DDS_Area * (Eff_NormalStress * 1000) * Mu * Safety_Factor # Max Force on the DDS Fault\n",
    "    DDS_Spring_Max_MPa = (DDS_Force_Max/Spring_Area)/1000 # Max Force On the Spring From the Fault During Shearing\n",
    "    \n",
    "    if Spring_Strength_MPa > DDS_Spring_Max_MPa:\n",
    "        print(color.BOLD+color.GREEN+color.UNDERLINE+'\\n\\nSAFE: The spring should not break\\n\\n'+color.END)\n",
    "    else:\n",
    "        print(color.BOLD+color.RED+color.UNDERLINE+'\\n\\nBREAK: The DDS stress on the spring exceeds the strength of the spring!\\n\\n'+color.END)\n",
    "        \n",
    "    # PART 2: Expected Stiffness Values:    \n",
    "    #------------------------------------------------------------------------------------------------------------------------------\n",
    "    \n",
    "    Spring_Stiffness = (Elastic_Modulus * Spring_Area)/(Spring_Length/1000) # Stiffness of the Spring\n",
    "    print(\"The Expect Spring Stiffness [MPa/m]:\",Spring_Stiffness)\n",
    "    \n",
    "    Stiffness_ShearStress = (Spring_Stiffness/DDS_Area * 1e-6)/ 1e6 # Stiffness as Shear Stress [MPa/um]\n",
    "    print(\"The Expect Stiffness As Shear Stress [MPa/um]:\",Stiffness_ShearStress)\n",
    "    \n",
    "    Stiffness_K = Stiffness_ShearStress/Eff_NormalStress # Expected Stiffness at Load (K) [Mu/um]\n",
    "    print(\"The Expect Stiffness At Load [Mu/um]:\",Stiffness_K)\n",
    "    \n",
    "    Critical_Stiffnes_Kc = Critical_Stiffness # Estiamted Critical Stiffness from Leeman et. al. 2016 and Scuder et. al. 2017\n",
    "    print(\"\\n\\nKappa = K / Kc\\n\\n\")\n",
    "    print(\"Kappa =\", Stiffness_K /Critical_Stiffnes_Kc )\n",
    "    \n",
    "    if Stiffness_K /Critical_Stiffnes_Kc > 1 :\n",
    "        print(color.BOLD+color.GREEN+color.UNDERLINE+'\\n\\nSTABLE SLIDING\\n\\n'+color.END)\n",
    "    else:\n",
    "        print(color.BOLD+color.RED+color.UNDERLINE+'\\n\\nUNSTABLE SLIDING\\n\\n'+color.END)\n",
    "               \n",
    "interact(Spring_Widget, Spring_Width=32, \n",
    "         DDS_Width=54.02, DDS_Length=57.01, Pc_Area_PistonPercentage=0.53,\n",
    "         Spring_UCS=150,\n",
    "         Normal_Stress=20, Confining_Prssure=0, Pore_Pressure=0, Mu=0.6, Safety_Factor=1,\n",
    "         Elastic_Modulus=2.98e9, Spring_Length=30, Critical_Stiffness=0.00045)"
   ]
  },
  {
   "cell_type": "code",
   "execution_count": null,
   "metadata": {},
   "outputs": [],
   "source": []
  }
 ],
 "metadata": {
  "kernelspec": {
   "display_name": "Python 3",
   "language": "python",
   "name": "python3"
  },
  "language_info": {
   "codemirror_mode": {
    "name": "ipython",
    "version": 3
   },
   "file_extension": ".py",
   "mimetype": "text/x-python",
   "name": "python",
   "nbconvert_exporter": "python",
   "pygments_lexer": "ipython3",
   "version": "3.8.3"
  }
 },
 "nbformat": 4,
 "nbformat_minor": 4
}
